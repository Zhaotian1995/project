{
 "cells": [
  {
   "cell_type": "code",
   "execution_count": 49,
   "metadata": {},
   "outputs": [],
   "source": [
    "import pandas as pd\n",
    "import numpy as np\n",
    "info = pd.read_csv('app_info.csv')"
   ]
  },
  {
   "cell_type": "code",
   "execution_count": 50,
   "metadata": {},
   "outputs": [
    {
     "data": {
      "text/html": [
       "<div>\n",
       "<style scoped>\n",
       "    .dataframe tbody tr th:only-of-type {\n",
       "        vertical-align: middle;\n",
       "    }\n",
       "\n",
       "    .dataframe tbody tr th {\n",
       "        vertical-align: top;\n",
       "    }\n",
       "\n",
       "    .dataframe thead th {\n",
       "        text-align: right;\n",
       "    }\n",
       "</style>\n",
       "<table border=\"1\" class=\"dataframe\">\n",
       "  <thead>\n",
       "    <tr style=\"text-align: right;\">\n",
       "      <th></th>\n",
       "      <th>appname</th>\n",
       "      <th>size of file</th>\n",
       "      <th>number of downloads</th>\n",
       "      <th>number of ratings</th>\n",
       "      <th>current version</th>\n",
       "      <th>required version for android</th>\n",
       "      <th>average score of app</th>\n",
       "      <th>in app purchase</th>\n",
       "      <th>agelimit</th>\n",
       "      <th>searchranking</th>\n",
       "      <th>encourage_review</th>\n",
       "    </tr>\n",
       "  </thead>\n",
       "  <tbody>\n",
       "    <tr>\n",
       "      <th>0</th>\n",
       "      <td>Drawing for Kids Learning Games for Toddlers a...</td>\n",
       "      <td>76M</td>\n",
       "      <td>13362332</td>\n",
       "      <td>51,588</td>\n",
       "      <td>3.0.2.6</td>\n",
       "      <td>5.0 and up</td>\n",
       "      <td>4.3</td>\n",
       "      <td>Offers in-app purchases</td>\n",
       "      <td>Ages up to 8</td>\n",
       "      <td>1</td>\n",
       "      <td>NaN</td>\n",
       "    </tr>\n",
       "    <tr>\n",
       "      <th>1</th>\n",
       "      <td>Kids Doodle - Color &amp;amp; Draw Free Game - App...</td>\n",
       "      <td>5.6M</td>\n",
       "      <td>60467411</td>\n",
       "      <td>427,821</td>\n",
       "      <td>1.8.4.5</td>\n",
       "      <td>4.4 and up</td>\n",
       "      <td>4.4</td>\n",
       "      <td>NaN</td>\n",
       "      <td>NaN</td>\n",
       "      <td>2</td>\n",
       "      <td>NaN</td>\n",
       "    </tr>\n",
       "    <tr>\n",
       "      <th>2</th>\n",
       "      <td>Kids Drawing Games for Girls 🎀 Apps for Toddle...</td>\n",
       "      <td>80M</td>\n",
       "      <td>4383870</td>\n",
       "      <td>5,709</td>\n",
       "      <td>1.4.3.4</td>\n",
       "      <td>5.0 and up</td>\n",
       "      <td>4.2</td>\n",
       "      <td>Offers in-app purchases</td>\n",
       "      <td>NaN</td>\n",
       "      <td>3</td>\n",
       "      <td>NaN</td>\n",
       "    </tr>\n",
       "    <tr>\n",
       "      <th>3</th>\n",
       "      <td>Kids Coloring &amp;amp; Kids Drawing – Art for kid...</td>\n",
       "      <td>24M</td>\n",
       "      <td>3744</td>\n",
       "      <td>567</td>\n",
       "      <td>1.0.1.3</td>\n",
       "      <td>4.1 and up</td>\n",
       "      <td>5.0</td>\n",
       "      <td>Offers in-app purchases</td>\n",
       "      <td>NaN</td>\n",
       "      <td>4</td>\n",
       "      <td>NaN</td>\n",
       "    </tr>\n",
       "    <tr>\n",
       "      <th>4</th>\n",
       "      <td>Kids Paint - Apps on Google Play</td>\n",
       "      <td>1.1M</td>\n",
       "      <td>390952</td>\n",
       "      <td>1,573</td>\n",
       "      <td>4.6</td>\n",
       "      <td>4.2 and up</td>\n",
       "      <td>4.1</td>\n",
       "      <td>NaN</td>\n",
       "      <td>Ages up to 12</td>\n",
       "      <td>5</td>\n",
       "      <td>NaN</td>\n",
       "    </tr>\n",
       "    <tr>\n",
       "      <th>...</th>\n",
       "      <td>...</td>\n",
       "      <td>...</td>\n",
       "      <td>...</td>\n",
       "      <td>...</td>\n",
       "      <td>...</td>\n",
       "      <td>...</td>\n",
       "      <td>...</td>\n",
       "      <td>...</td>\n",
       "      <td>...</td>\n",
       "      <td>...</td>\n",
       "      <td>...</td>\n",
       "    </tr>\n",
       "    <tr>\n",
       "      <th>245</th>\n",
       "      <td>Kids Drawing - Apps on Google Play</td>\n",
       "      <td>9.7M</td>\n",
       "      <td>1020</td>\n",
       "      <td>24</td>\n",
       "      <td>1</td>\n",
       "      <td>2.2 and up</td>\n",
       "      <td>4.1</td>\n",
       "      <td>NaN</td>\n",
       "      <td>NaN</td>\n",
       "      <td>246</td>\n",
       "      <td>NaN</td>\n",
       "    </tr>\n",
       "    <tr>\n",
       "      <th>246</th>\n",
       "      <td>Kids Slate - Apps on Google Play</td>\n",
       "      <td>13M</td>\n",
       "      <td>15494</td>\n",
       "      <td>59</td>\n",
       "      <td>1.2</td>\n",
       "      <td>4.4 and up</td>\n",
       "      <td>4.6</td>\n",
       "      <td>NaN</td>\n",
       "      <td>Ages 6-8</td>\n",
       "      <td>247</td>\n",
       "      <td>NaN</td>\n",
       "    </tr>\n",
       "    <tr>\n",
       "      <th>247</th>\n",
       "      <td>Kids Drawing And Coloring - Apps on Google Play</td>\n",
       "      <td>22M</td>\n",
       "      <td>31</td>\n",
       "      <td>Learn more&lt;/a&gt;&lt;/div&gt;</td>\n",
       "      <td>1</td>\n",
       "      <td>4.2 and up</td>\n",
       "      <td>NaN</td>\n",
       "      <td>NaN</td>\n",
       "      <td>NaN</td>\n",
       "      <td>248</td>\n",
       "      <td>NaN</td>\n",
       "    </tr>\n",
       "    <tr>\n",
       "      <th>248</th>\n",
       "      <td>Princess Coloring Book - Coloring Pages for Gi...</td>\n",
       "      <td>49M</td>\n",
       "      <td>22298</td>\n",
       "      <td>19</td>\n",
       "      <td>1.0.3</td>\n",
       "      <td>4.1 and up</td>\n",
       "      <td>4.4</td>\n",
       "      <td>NaN</td>\n",
       "      <td>NaN</td>\n",
       "      <td>249</td>\n",
       "      <td>NaN</td>\n",
       "    </tr>\n",
       "    <tr>\n",
       "      <th>249</th>\n",
       "      <td>Labo Halloween Art,Draw ＆ Doodle Game For Kids...</td>\n",
       "      <td>13M</td>\n",
       "      <td>9721</td>\n",
       "      <td>25</td>\n",
       "      <td>1.6.47</td>\n",
       "      <td>4.1 and up</td>\n",
       "      <td>NaN</td>\n",
       "      <td>NaN</td>\n",
       "      <td>NaN</td>\n",
       "      <td>250</td>\n",
       "      <td>NaN</td>\n",
       "    </tr>\n",
       "  </tbody>\n",
       "</table>\n",
       "<p>250 rows × 11 columns</p>\n",
       "</div>"
      ],
      "text/plain": [
       "                                               appname size of file  \\\n",
       "0    Drawing for Kids Learning Games for Toddlers a...          76M   \n",
       "1    Kids Doodle - Color &amp; Draw Free Game - App...         5.6M   \n",
       "2    Kids Drawing Games for Girls 🎀 Apps for Toddle...          80M   \n",
       "3    Kids Coloring &amp; Kids Drawing – Art for kid...          24M   \n",
       "4                     Kids Paint - Apps on Google Play         1.1M   \n",
       "..                                                 ...          ...   \n",
       "245                 Kids Drawing - Apps on Google Play         9.7M   \n",
       "246                   Kids Slate - Apps on Google Play          13M   \n",
       "247    Kids Drawing And Coloring - Apps on Google Play          22M   \n",
       "248  Princess Coloring Book - Coloring Pages for Gi...          49M   \n",
       "249  Labo Halloween Art,Draw ＆ Doodle Game For Kids...          13M   \n",
       "\n",
       "    number of downloads     number of ratings current version  \\\n",
       "0              13362332                51,588         3.0.2.6   \n",
       "1              60467411               427,821         1.8.4.5   \n",
       "2               4383870                 5,709         1.4.3.4   \n",
       "3                  3744                   567         1.0.1.3   \n",
       "4                390952                 1,573             4.6   \n",
       "..                  ...                   ...             ...   \n",
       "245                1020                    24               1   \n",
       "246               15494                    59             1.2   \n",
       "247                  31  Learn more</a></div>               1   \n",
       "248               22298                    19           1.0.3   \n",
       "249                9721                    25          1.6.47   \n",
       "\n",
       "    required version for android  average score of app  \\\n",
       "0                     5.0 and up                   4.3   \n",
       "1                     4.4 and up                   4.4   \n",
       "2                     5.0 and up                   4.2   \n",
       "3                     4.1 and up                   5.0   \n",
       "4                     4.2 and up                   4.1   \n",
       "..                           ...                   ...   \n",
       "245                   2.2 and up                   4.1   \n",
       "246                   4.4 and up                   4.6   \n",
       "247                   4.2 and up                   NaN   \n",
       "248                   4.1 and up                   4.4   \n",
       "249                   4.1 and up                   NaN   \n",
       "\n",
       "             in app purchase       agelimit  searchranking  encourage_review  \n",
       "0    Offers in-app purchases   Ages up to 8              1               NaN  \n",
       "1                        NaN            NaN              2               NaN  \n",
       "2    Offers in-app purchases            NaN              3               NaN  \n",
       "3    Offers in-app purchases            NaN              4               NaN  \n",
       "4                        NaN  Ages up to 12              5               NaN  \n",
       "..                       ...            ...            ...               ...  \n",
       "245                      NaN            NaN            246               NaN  \n",
       "246                      NaN       Ages 6-8            247               NaN  \n",
       "247                      NaN            NaN            248               NaN  \n",
       "248                      NaN            NaN            249               NaN  \n",
       "249                      NaN            NaN            250               NaN  \n",
       "\n",
       "[250 rows x 11 columns]"
      ]
     },
     "execution_count": 50,
     "metadata": {},
     "output_type": "execute_result"
    }
   ],
   "source": [
    "info"
   ]
  },
  {
   "cell_type": "code",
   "execution_count": 51,
   "metadata": {},
   "outputs": [],
   "source": [
    "downloads=[]\n",
    "reviewsnum=[]\n",
    "for i in range(0,len(info)):\n",
    "    try:\n",
    "        downloads.append(int(info['number of downloads'][i]))\n",
    "    except:\n",
    "        downloads.append(0)\n",
    "for i in range(0,len(info)):\n",
    "    try:\n",
    "        reviewsnum.append(int(info['number of ratings'][i].replace(',','')))\n",
    "    except:\n",
    "        reviewsnum.append(0)"
   ]
  },
  {
   "cell_type": "code",
   "execution_count": 52,
   "metadata": {},
   "outputs": [],
   "source": [
    "info['downloads_num']=downloads\n",
    "info['reviews_num']=reviewsnum"
   ]
  },
  {
   "cell_type": "code",
   "execution_count": 93,
   "metadata": {},
   "outputs": [],
   "source": [
    "info['review_div_download']=info['reviews_num']/info['downloads_num']"
   ]
  },
  {
   "cell_type": "code",
   "execution_count": 94,
   "metadata": {},
   "outputs": [],
   "source": [
    "bottom_Q=np.percentile(info['review_div_download'],50)  # bottom 50%\n",
    "top_Q=np.percentile(info['review_div_download'],75)     # top 25%"
   ]
  },
  {
   "cell_type": "code",
   "execution_count": 100,
   "metadata": {},
   "outputs": [
    {
     "data": {
      "text/plain": [
       "0.001884903886455801"
      ]
     },
     "execution_count": 100,
     "metadata": {},
     "output_type": "execute_result"
    }
   ],
   "source": [
    "first_Q"
   ]
  },
  {
   "cell_type": "code",
   "execution_count": 101,
   "metadata": {},
   "outputs": [
    {
     "data": {
      "text/plain": [
       "0.003870358851541617"
      ]
     },
     "execution_count": 101,
     "metadata": {},
     "output_type": "execute_result"
    }
   ],
   "source": [
    "Third_Q"
   ]
  },
  {
   "cell_type": "code",
   "execution_count": 102,
   "metadata": {},
   "outputs": [],
   "source": [
    "bottom_Q_data=info[info['review_div_download']<=bottom_Q] # at bottom 50%\n",
    "top_Q_data=info[info['review_div_download']>=top_Q]       # at top 25%"
   ]
  },
  {
   "cell_type": "code",
   "execution_count": 103,
   "metadata": {},
   "outputs": [
    {
     "data": {
      "text/plain": [
       "Ttest_indResult(statistic=-2.171867951744288, pvalue=0.032954974849939846)"
      ]
     },
     "execution_count": 103,
     "metadata": {},
     "output_type": "execute_result"
    }
   ],
   "source": [
    "import scipy.stats as stats\n",
    "stats.ttest_ind(bottom_Q_data['downloads_num'],top_Q_data['downloads_num'],equal_var = False)"
   ]
  },
  {
   "cell_type": "code",
   "execution_count": 104,
   "metadata": {},
   "outputs": [
    {
     "data": {
      "text/plain": [
       "6125032.32215873"
      ]
     },
     "execution_count": 104,
     "metadata": {},
     "output_type": "execute_result"
    }
   ],
   "source": [
    "np.average(top_Q_data['downloads_num'])-np.average(bottom_Q_data['downloads_num'])"
   ]
  },
  {
   "cell_type": "code",
   "execution_count": 60,
   "metadata": {},
   "outputs": [],
   "source": [
    "info.to_csv('info.csv')"
   ]
  },
  {
   "cell_type": "code",
   "execution_count": 106,
   "metadata": {},
   "outputs": [
    {
     "data": {
      "text/plain": [
       "4947698.204"
      ]
     },
     "execution_count": 106,
     "metadata": {},
     "output_type": "execute_result"
    }
   ],
   "source": [
    "np.average(info['downloads_num'])"
   ]
  },
  {
   "cell_type": "code",
   "execution_count": 107,
   "metadata": {},
   "outputs": [
    {
     "data": {
      "text/plain": [
       "Ttest_indResult(statistic=-1.6814978222807786, pvalue=0.10096691758831866)"
      ]
     },
     "execution_count": 107,
     "metadata": {},
     "output_type": "execute_result"
    }
   ],
   "source": [
    "increase=first_Q+0.004579\n",
    "increase_data=info[info['review_div_download']>=increase]\n",
    "stats.ttest_ind(bottom_Q_data['downloads_num'],increase_data['downloads_num'],equal_var = False)"
   ]
  },
  {
   "cell_type": "code",
   "execution_count": 110,
   "metadata": {},
   "outputs": [
    {
     "data": {
      "text/plain": [
       "6929029.020571429"
      ]
     },
     "execution_count": 110,
     "metadata": {},
     "output_type": "execute_result"
    }
   ],
   "source": [
    "-np.average(bottom_Q_data['downloads_num'])+np.average(increase_data['downloads_num'])"
   ]
  },
  {
   "cell_type": "code",
   "execution_count": null,
   "metadata": {},
   "outputs": [],
   "source": []
  }
 ],
 "metadata": {
  "kernelspec": {
   "display_name": "Python 3",
   "language": "python",
   "name": "python3"
  },
  "language_info": {
   "codemirror_mode": {
    "name": "ipython",
    "version": 3
   },
   "file_extension": ".py",
   "mimetype": "text/x-python",
   "name": "python",
   "nbconvert_exporter": "python",
   "pygments_lexer": "ipython3",
   "version": "3.8.3"
  }
 },
 "nbformat": 4,
 "nbformat_minor": 4
}
